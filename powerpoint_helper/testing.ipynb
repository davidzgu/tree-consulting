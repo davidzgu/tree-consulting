{
 "cells": [
  {
   "cell_type": "code",
   "execution_count": 5,
   "id": "586f9eed",
   "metadata": {},
   "outputs": [
    {
     "name": "stdout",
     "output_type": "stream",
     "text": [
      "CrewAI storage location: /Users/davidzgu/Library/Application Support/powerpoint_helper\n",
      "\n",
      "Stored files and directories:\n"
     ]
    }
   ],
   "source": [
    "from crewai.utilities.paths import db_storage_path\n",
    "import os\n",
    "\n",
    "# Get the base storage path\n",
    "storage_path = db_storage_path()\n",
    "print(f\"CrewAI storage location: {storage_path}\")\n",
    "\n",
    "# List all CrewAI storage directories\n",
    "if os.path.exists(storage_path):\n",
    "    print(\"\\nStored files and directories:\")\n",
    "    for item in os.listdir(storage_path):\n",
    "        item_path = os.path.join(storage_path, item)\n",
    "        if os.path.isdir(item_path):\n",
    "            print(f\"📁 {item}/\")\n",
    "            # Show ChromaDB collections\n",
    "            if os.path.exists(item_path):\n",
    "                for subitem in os.listdir(item_path):\n",
    "                    print(f\"   └── {subitem}\")\n",
    "        else:\n",
    "            print(f\"📄 {item}\")\n",
    "else:\n",
    "    print(\"No CrewAI storage directory found yet.\")"
   ]
  },
  {
   "cell_type": "code",
   "execution_count": 2,
   "id": "76fee301",
   "metadata": {},
   "outputs": [
    {
     "name": "stdout",
     "output_type": "stream",
     "text": [
      "Tables in the database: [('table', 'migrations', 'migrations', 2, 'CREATE TABLE migrations (\\n                        dir TEXT NOT NULL,\\n                        version INTEGER NOT NULL,\\n                        filename TEXT NOT NULL,\\n                        sql TEXT NOT NULL,\\n                        hash TEXT NOT NULL,\\n                        PRIMARY KEY (dir, version)\\n                    )'), ('table', 'embeddings_queue', 'embeddings_queue', 4, 'CREATE TABLE embeddings_queue (\\n    seq_id INTEGER PRIMARY KEY,\\n    created_at TIMESTAMP NOT NULL DEFAULT CURRENT_TIMESTAMP,\\n    operation INTEGER NOT NULL,\\n    topic TEXT NOT NULL,\\n    id TEXT NOT NULL,\\n    vector BLOB,\\n    encoding TEXT,\\n    metadata TEXT\\n)'), ('table', 'embeddings_queue_config', 'embeddings_queue_config', 5, 'CREATE TABLE embeddings_queue_config (\\n    id INTEGER PRIMARY KEY,\\n    config_json_str TEXT\\n)'), ('table', 'collection_metadata', 'collection_metadata', 9, 'CREATE TABLE collection_metadata (\\n    collection_id TEXT REFERENCES collections(id) ON DELETE CASCADE,\\n    key TEXT NOT NULL,\\n    str_value TEXT,\\n    int_value INTEGER,\\n    float_value REAL, bool_value INTEGER,\\n    PRIMARY KEY (collection_id, key)\\n)'), ('table', 'segment_metadata', 'segment_metadata', 13, 'CREATE TABLE segment_metadata (\\n    segment_id TEXT  REFERENCES segments(id) ON DELETE CASCADE,\\n    key TEXT NOT NULL,\\n    str_value TEXT,\\n    int_value INTEGER,\\n    float_value REAL, bool_value INTEGER,\\n    PRIMARY KEY (segment_id, key)\\n)'), ('table', 'tenants', 'tenants', 15, 'CREATE TABLE tenants (\\n    id TEXT PRIMARY KEY,\\n    UNIQUE (id)\\n)'), ('table', 'databases', 'databases', 17, 'CREATE TABLE databases (\\n    id TEXT PRIMARY KEY, -- unique globally\\n    name TEXT NOT NULL, -- unique per tenant\\n    tenant_id TEXT NOT NULL REFERENCES tenants(id) ON DELETE CASCADE,\\n    UNIQUE (tenant_id, name) -- Ensure that a tenant has only one database with a given name\\n)'), ('table', 'collections', 'collections', 20, 'CREATE TABLE \"collections\" (\\n    id TEXT PRIMARY KEY, -- unique globally\\n    name TEXT NOT NULL, -- unique per database\\n    dimension INTEGER,\\n    database_id TEXT NOT NULL REFERENCES databases(id) ON DELETE CASCADE, config_json_str TEXT,\\n    UNIQUE (name, database_id)\\n)'), ('table', 'maintenance_log', 'maintenance_log', 6, 'CREATE TABLE maintenance_log (\\n  id INT PRIMARY KEY,\\n  timestamp INT NOT NULL,\\n  operation TEXT NOT NULL\\n)'), ('table', 'segments', 'segments', 24, 'CREATE TABLE \"segments\" (\\n    id TEXT PRIMARY KEY,\\n    type TEXT NOT NULL,\\n    scope TEXT NOT NULL,\\n    collection TEXT REFERENCES collection(id) NOT NULL\\n)'), ('table', 'embeddings', 'embeddings', 11, 'CREATE TABLE embeddings (\\n    id INTEGER PRIMARY KEY,\\n    segment_id TEXT NOT NULL,\\n    embedding_id TEXT NOT NULL,\\n    seq_id BLOB NOT NULL,\\n    created_at TIMESTAMP NOT NULL DEFAULT CURRENT_TIMESTAMP,\\n    UNIQUE (segment_id, embedding_id)\\n)'), ('table', 'embedding_metadata', 'embedding_metadata', 26, 'CREATE TABLE embedding_metadata (\\n    id INTEGER REFERENCES embeddings(id),\\n    key TEXT NOT NULL,\\n    string_value TEXT,\\n    int_value INTEGER,\\n    float_value REAL, bool_value INTEGER,\\n    PRIMARY KEY (id, key)\\n)'), ('table', 'max_seq_id', 'max_seq_id', 28, 'CREATE TABLE max_seq_id (\\n    segment_id TEXT PRIMARY KEY,\\n    seq_id BLOB NOT NULL\\n)'), ('table', 'embedding_fulltext_search', 'embedding_fulltext_search', 0, \"CREATE VIRTUAL TABLE embedding_fulltext_search USING fts5(string_value, tokenize='trigram')\"), ('table', 'embedding_fulltext_search_data', 'embedding_fulltext_search_data', 37, \"CREATE TABLE 'embedding_fulltext_search_data'(id INTEGER PRIMARY KEY, block BLOB)\"), ('table', 'embedding_fulltext_search_idx', 'embedding_fulltext_search_idx', 38, \"CREATE TABLE 'embedding_fulltext_search_idx'(segid, term, pgno, PRIMARY KEY(segid, term)) WITHOUT ROWID\"), ('table', 'embedding_fulltext_search_content', 'embedding_fulltext_search_content', 39, \"CREATE TABLE 'embedding_fulltext_search_content'(id INTEGER PRIMARY KEY, c0)\"), ('table', 'embedding_fulltext_search_docsize', 'embedding_fulltext_search_docsize', 40, \"CREATE TABLE 'embedding_fulltext_search_docsize'(id INTEGER PRIMARY KEY, sz BLOB)\"), ('table', 'embedding_fulltext_search_config', 'embedding_fulltext_search_config', 41, \"CREATE TABLE 'embedding_fulltext_search_config'(k PRIMARY KEY, v) WITHOUT ROWID\")]\n"
     ]
    }
   ],
   "source": [
    "import sqlite3\n",
    "\n",
    "conn = sqlite3.connect('./db/chroma.sqlite3')\n",
    "cursor = conn.cursor()\n",
    "\n",
    "cursor.execute(\"SELECT * FROM sqlite_master WHERE type='table';\")\n",
    "tables = cursor.fetchall()\n",
    "print(\"Tables in the database:\", tables)\n",
    "\n",
    "# Example: Query a table (replace 'embeddings' with an actual table name)\n",
    "# cursor.execute(\"SELECT * FROM embeddings LIMIT 5;\")\n",
    "# data = cursor.fetchall()\n",
    "# print(\"Sample data:\", data)\n",
    "\n",
    "conn.close()"
   ]
  }
 ],
 "metadata": {
  "kernelspec": {
   "display_name": ".venv",
   "language": "python",
   "name": "python3"
  },
  "language_info": {
   "codemirror_mode": {
    "name": "ipython",
    "version": 3
   },
   "file_extension": ".py",
   "mimetype": "text/x-python",
   "name": "python",
   "nbconvert_exporter": "python",
   "pygments_lexer": "ipython3",
   "version": "3.13.5"
  }
 },
 "nbformat": 4,
 "nbformat_minor": 5
}
